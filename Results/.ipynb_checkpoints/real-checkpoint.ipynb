{
 "cells": [
  {
   "cell_type": "code",
   "execution_count": 3,
   "metadata": {},
   "outputs": [
    {
     "data": {
      "image/png": "[encoded data removed]",
      "text/plain": [
       "<Figure size 576x72 with 1 Axes>"
      ]
     },
     "metadata": {},
     "output_type": "display_data"
    }
   ],
   "source": [
    "import numpy as np\n",
    "import pandas as pd\n",
    "import matplotlib.pyplot as plt\n",
    "import seaborn as sns; sns.set()\n",
    "p = sns.color_palette(\"Set2\")\n",
    "sns.palplot(p)\n",
    "sns.set_palette(p)\n",
    "cmap = plt.cm.get_cmap('Spectral')"
   ]
  },
  {
   "cell_type": "code",
   "execution_count": 26,
   "metadata": {},
   "outputs": [
    {
     "name": "stdout",
     "output_type": "stream",
     "text": [
      "(10, 25, 25)\n",
      "(10, 25, 25)\n",
      "(10, 25, 25)\n"
     ]
    }
   ],
   "source": [
    "n = 10\n",
    "real = np.load('real_circles.npy')[:n]\n",
    "syn_gan = np.load('./GAN/synthetic_gan.npy')[:n][:,:,:,0]\n",
    "syn_vae = np.load('./VAE/synthetic_vae.npy')[:n]\n",
    "imgs = [real, syn_gan, syn_vae]\n",
    "print(real.shape)\n",
    "print(syn_gan.shape)\n",
    "print(syn_vae.shape)"
   ]
  },
  {
   "cell_type": "code",
   "execution_count": 35,
   "metadata": {},
   "outputs": [
    {
     "data": {
      "image/png": "[encoded data removed]",
      "text/plain": [
       "<Figure size 1152x288 with 30 Axes>"
      ]
     },
     "metadata": {},
     "output_type": "display_data"
    }
   ],
   "source": [
    "f, axis = plt.subplots(ncols=n, nrows=3, figsize=(16, 4))\n",
    "for i, ax in enumerate(axis):\n",
    "    for j, col in enumerate(ax):\n",
    "        col.axis('off')\n",
    "        col.imshow(imgs[i][j], cmap='gray_r')\n",
    "plt.savefig('basic-results-comparison.png', bbox_inches='tight', pad_inches=0)"
   ]
  },
  {
   "cell_type": "code",
   "execution_count": null,
   "metadata": {},
   "outputs": [],
   "source": []
  }
 ],
 "metadata": {
  "kernelspec": {
   "display_name": "Python 3",
   "language": "python",
   "name": "python3"
  },
  "language_info": {
   "codemirror_mode": {
    "name": "ipython",
    "version": 3
   },
   "file_extension": ".py",
   "mimetype": "text/x-python",
   "name": "python",
   "nbconvert_exporter": "python",
   "pygments_lexer": "ipython3",
   "version": "3.6.8"
  }
 },
 "nbformat": 4,
 "nbformat_minor": 2
}
