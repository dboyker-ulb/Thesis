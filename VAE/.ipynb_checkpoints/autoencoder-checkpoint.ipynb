{
 "cells": [
  {
   "cell_type": "code",
   "execution_count": 1,
   "metadata": {},
   "outputs": [],
   "source": [
    "import numpy as np\n",
    "import tensorflow as tf\n",
    "from tensorflow.keras.layers import Input, Dense\n",
    "from tensorflow.keras.models import Model\n",
    "from tensorflow.keras.callbacks import TensorBoard\n",
    "from tensorflow.keras.datasets import mnist\n",
    "\n",
    "import matplotlib.pyplot as plt\n",
    "import seaborn as sns; sns.set()"
   ]
  },
  {
   "cell_type": "code",
   "execution_count": 2,
   "metadata": {},
   "outputs": [],
   "source": [
    "INPUT_DIM = 784  # Dimension of the input data\n",
    "ENCODING_DIM = 32  # Latent representation have dimension 1\n",
    "\n",
    "def get_y(x):\n",
    "    return np.power(x, 2)\n",
    "\n",
    "def sample_data(n=10000, scale=1):\n",
    "    labels = [[0, 0], [2, 0], [4, 0]]\n",
    "    data = []\n",
    "    for i in range(n):\n",
    "        label = labels[np.random.choice([0, 1, 2])]\n",
    "        #dx = np.random.random()\n",
    "        #dy = np.random.random()\n",
    "        dx = 0\n",
    "        dy = 0\n",
    "        data.append([label[0] + dx, label[1] + dy])\n",
    "    return np.array(data)"
   ]
  },
  {
   "cell_type": "code",
   "execution_count": 3,
   "metadata": {},
   "outputs": [],
   "source": [
    "input_data = Input(shape=(INPUT_DIM,))  # Input placeholder. Inputs have dimension 2\n",
    "encoded = Dense(ENCODING_DIM, activation='relu')(input_data)  # Encoding of the input\n",
    "decoded = Dense(INPUT_DIM, activation='sigmoid')(encoded)  # Reconstruction of the input\n",
    "autoencoder = Model(input_data, decoded)  # The autoencoder represent a model of the identity function from inp to out\n",
    "encoder = Model(input_data, encoded)  # Encoder model\n",
    "encoded_input = Input(shape=(ENCODING_DIM,))  # Encoded input placeholder\n",
    "decoder_layer = autoencoder.layers[-1]  # Last layer of autoencoder\n",
    "decoder = Model(encoded_input, decoder_layer(encoded_input))  # Decoder model\n",
    "autoencoder.compile(optimizer='adadelta', loss='binary_crossentropy')"
   ]
  },
  {
   "cell_type": "code",
   "execution_count": 4,
   "metadata": {},
   "outputs": [
    {
     "data": {
      "text/plain": [
       "'\\ndata = sample_data(1000)\\nfig = plt.figure(figsize=(16, 8))\\nsns.scatterplot(x=[x[0] for x in data], y=[y[1] for y in data])\\nplt.show()\\n'"
      ]
     },
     "execution_count": 4,
     "metadata": {},
     "output_type": "execute_result"
    }
   ],
   "source": [
    "(x_train, _), (x_test, _) = mnist.load_data()\n",
    "x_train = x_train.astype('float32') / 255.\n",
    "x_test = x_test.astype('float32') / 255.\n",
    "x_train = x_train.reshape((len(x_train), np.prod(x_train.shape[1:])))\n",
    "x_test = x_test.reshape((len(x_test), np.prod(x_test.shape[1:])))\n",
    "\"\"\"\n",
    "data = sample_data(1000)\n",
    "fig = plt.figure(figsize=(16, 8))\n",
    "sns.scatterplot(x=[x[0] for x in data], y=[y[1] for y in data])\n",
    "plt.show()\n",
    "\"\"\""
   ]
  },
  {
   "cell_type": "code",
   "execution_count": null,
   "metadata": {},
   "outputs": [
    {
     "name": "stdout",
     "output_type": "stream",
     "text": [
      "Train on 60000 samples, validate on 10000 samples\n",
      "Epoch 1/2\n",
      " 9984/60000 [===>..........................] - ETA: 19s - loss: 0.6517"
     ]
    }
   ],
   "source": [
    "#x_train = data[:int(len(data)*0.7)]\n",
    "#x_test = data[int(len(data)*0.7):]\n",
    "autoencoder.fit(x_train, x_train,\n",
    "                epochs=50,\n",
    "                batch_size=256,\n",
    "                shuffle=True,\n",
    "                validation_data=(x_test, x_test),   \n",
    "                callbacks=[TensorBoard(log_dir='/tmp/autoencoder')])"
   ]
  },
  {
   "cell_type": "code",
   "execution_count": null,
   "metadata": {},
   "outputs": [],
   "source": [
    "encoded_data = encoder.predict(x_test)\n",
    "print(encoded_data[:3])\n",
    "print(encoded_data[:0])\n",
    "decoded_data = decoder.predict(encoded_data)\n",
    "\n",
    "n = 10  # how many digits we will display\n",
    "plt.figure(figsize=(20, 4))\n",
    "for i in range(n):\n",
    "    # display original\n",
    "    ax = plt.subplot(2, n, i + 1)\n",
    "    plt.imshow(x_test[i].reshape(28, 28))\n",
    "    plt.gray()\n",
    "    ax.get_xaxis().set_visible(False)\n",
    "    ax.get_yaxis().set_visible(False)\n",
    "\n",
    "    # display reconstruction\n",
    "    ax = plt.subplot(2, n, i + 1 + n)\n",
    "    plt.imshow(decoded_data[i].reshape(28, 28))\n",
    "    plt.gray()\n",
    "    ax.get_xaxis().set_visible(False)\n",
    "    ax.get_yaxis().set_visible(False)\n",
    "plt.show()"
   ]
  },
  {
   "cell_type": "code",
   "execution_count": null,
   "metadata": {},
   "outputs": [],
   "source": []
  }
 ],
 "metadata": {
  "kernelspec": {
   "display_name": "Python 3",
   "language": "python",
   "name": "python3"
  },
  "language_info": {
   "codemirror_mode": {
    "name": "ipython",
    "version": 3
   },
   "file_extension": ".py",
   "mimetype": "text/x-python",
   "name": "python",
   "nbconvert_exporter": "python",
   "pygments_lexer": "ipython3",
   "version": "3.6.6"
  }
 },
 "nbformat": 4,
 "nbformat_minor": 2
}
